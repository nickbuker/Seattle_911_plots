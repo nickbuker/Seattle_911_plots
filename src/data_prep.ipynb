{
 "cells": [
  {
   "cell_type": "code",
   "execution_count": 31,
   "metadata": {
    "collapsed": true
   },
   "outputs": [],
   "source": [
    "# Import pandas(for making data tables)\n",
    "import pandas as pd\n",
    "import numpy as np\n",
    "from datetime import datetime"
   ]
  },
  {
   "cell_type": "code",
   "execution_count": 32,
   "metadata": {
    "collapsed": true
   },
   "outputs": [],
   "source": [
    "# Create a Dataframe (data from data.seattle.gov)\n",
    "df = pd.read_csv('../seattle_911.csv', low_memory=False)"
   ]
  },
  {
   "cell_type": "code",
   "execution_count": 33,
   "metadata": {
    "collapsed": false
   },
   "outputs": [
    {
     "name": "stdout",
     "output_type": "stream",
     "text": [
      "<class 'pandas.core.frame.DataFrame'>\n",
      "RangeIndex: 555768 entries, 0 to 555767\n",
      "Data columns (total 7 columns):\n",
      "Address            554872 non-null object\n",
      "Type               555768 non-null object\n",
      "Datetime           555768 non-null object\n",
      "Latitude           554426 non-null float64\n",
      "Longitude          554426 non-null float64\n",
      "Report Location    516088 non-null object\n",
      "Incident Number    526735 non-null object\n",
      "dtypes: float64(2), object(5)\n",
      "memory usage: 29.7+ MB\n"
     ]
    }
   ],
   "source": [
    "# Replace the spaces (missing date) in Latitude with NaN\n",
    "df.Latitude = pd.to_numeric(df.Latitude, errors=\"coerce\")\n",
    "df.info()"
   ]
  },
  {
   "cell_type": "code",
   "execution_count": 34,
   "metadata": {
    "collapsed": false
   },
   "outputs": [
    {
     "data": {
      "text/html": [
       "<div>\n",
       "<table border=\"1\" class=\"dataframe\">\n",
       "  <thead>\n",
       "    <tr style=\"text-align: right;\">\n",
       "      <th></th>\n",
       "      <th>Address</th>\n",
       "      <th>Type</th>\n",
       "      <th>Datetime</th>\n",
       "      <th>Latitude</th>\n",
       "      <th>Longitude</th>\n",
       "      <th>Report Location</th>\n",
       "      <th>Incident Number</th>\n",
       "    </tr>\n",
       "  </thead>\n",
       "  <tbody>\n",
       "    <tr>\n",
       "      <th>0</th>\n",
       "      <td>NaN</td>\n",
       "      <td>--T::00</td>\n",
       "      <td></td>\n",
       "      <td>NaN</td>\n",
       "      <td>NaN</td>\n",
       "      <td>NaN</td>\n",
       "      <td>NaN</td>\n",
       "    </tr>\n",
       "    <tr>\n",
       "      <th>1</th>\n",
       "      <td>6900 37th Av S</td>\n",
       "      <td>Medic Response</td>\n",
       "      <td>11/09/2011 11:33:00 PM +0000</td>\n",
       "      <td>47.540683</td>\n",
       "      <td>-122.286131</td>\n",
       "      <td>(47.540683, -122.286131)</td>\n",
       "      <td>F110104166</td>\n",
       "    </tr>\n",
       "    <tr>\n",
       "      <th>2</th>\n",
       "      <td>N 50th St / Stone Way N</td>\n",
       "      <td>Aid Response</td>\n",
       "      <td>11/09/2011 11:32:00 PM +0000</td>\n",
       "      <td>47.665034</td>\n",
       "      <td>-122.340207</td>\n",
       "      <td>(47.665034, -122.340207)</td>\n",
       "      <td>F110104164</td>\n",
       "    </tr>\n",
       "    <tr>\n",
       "      <th>3</th>\n",
       "      <td>E John St / E Olive Way</td>\n",
       "      <td>Aid Response</td>\n",
       "      <td>11/09/2011 11:32:00 PM +0000</td>\n",
       "      <td>47.619575</td>\n",
       "      <td>-122.324257</td>\n",
       "      <td>(47.619575, -122.324257)</td>\n",
       "      <td>F110104165</td>\n",
       "    </tr>\n",
       "    <tr>\n",
       "      <th>4</th>\n",
       "      <td>611 12th Av S</td>\n",
       "      <td>Aid Response</td>\n",
       "      <td>11/09/2011 11:29:00 PM +0000</td>\n",
       "      <td>47.597406</td>\n",
       "      <td>-122.317228</td>\n",
       "      <td>(47.597406, -122.317228)</td>\n",
       "      <td>F110104162</td>\n",
       "    </tr>\n",
       "  </tbody>\n",
       "</table>\n",
       "</div>"
      ],
      "text/plain": [
       "                   Address            Type                      Datetime  \\\n",
       "0                      NaN         --T::00                                 \n",
       "1           6900 37th Av S  Medic Response  11/09/2011 11:33:00 PM +0000   \n",
       "2  N 50th St / Stone Way N    Aid Response  11/09/2011 11:32:00 PM +0000   \n",
       "3  E John St / E Olive Way    Aid Response  11/09/2011 11:32:00 PM +0000   \n",
       "4            611 12th Av S    Aid Response  11/09/2011 11:29:00 PM +0000   \n",
       "\n",
       "    Latitude   Longitude           Report Location Incident Number  \n",
       "0        NaN         NaN                       NaN             NaN  \n",
       "1  47.540683 -122.286131  (47.540683, -122.286131)      F110104166  \n",
       "2  47.665034 -122.340207  (47.665034, -122.340207)      F110104164  \n",
       "3  47.619575 -122.324257  (47.619575, -122.324257)      F110104165  \n",
       "4  47.597406 -122.317228  (47.597406, -122.317228)      F110104162  "
      ]
     },
     "execution_count": 34,
     "metadata": {},
     "output_type": "execute_result"
    }
   ],
   "source": [
    "df.head()"
   ]
  },
  {
   "cell_type": "code",
   "execution_count": 35,
   "metadata": {
    "collapsed": false
   },
   "outputs": [
    {
     "data": {
      "text/html": [
       "<div>\n",
       "<table border=\"1\" class=\"dataframe\">\n",
       "  <thead>\n",
       "    <tr style=\"text-align: right;\">\n",
       "      <th></th>\n",
       "      <th>Address</th>\n",
       "      <th>Type</th>\n",
       "      <th>Datetime</th>\n",
       "      <th>Latitude</th>\n",
       "      <th>Longitude</th>\n",
       "      <th>Report Location</th>\n",
       "      <th>Incident Number</th>\n",
       "    </tr>\n",
       "  </thead>\n",
       "  <tbody>\n",
       "    <tr>\n",
       "      <th>1</th>\n",
       "      <td>6900 37th Av S</td>\n",
       "      <td>Medic Response</td>\n",
       "      <td>11/09/2011 11:33:00 PM +0000</td>\n",
       "      <td>47.540683</td>\n",
       "      <td>-122.286131</td>\n",
       "      <td>(47.540683, -122.286131)</td>\n",
       "      <td>F110104166</td>\n",
       "    </tr>\n",
       "    <tr>\n",
       "      <th>2</th>\n",
       "      <td>N 50th St / Stone Way N</td>\n",
       "      <td>Aid Response</td>\n",
       "      <td>11/09/2011 11:32:00 PM +0000</td>\n",
       "      <td>47.665034</td>\n",
       "      <td>-122.340207</td>\n",
       "      <td>(47.665034, -122.340207)</td>\n",
       "      <td>F110104164</td>\n",
       "    </tr>\n",
       "    <tr>\n",
       "      <th>3</th>\n",
       "      <td>E John St / E Olive Way</td>\n",
       "      <td>Aid Response</td>\n",
       "      <td>11/09/2011 11:32:00 PM +0000</td>\n",
       "      <td>47.619575</td>\n",
       "      <td>-122.324257</td>\n",
       "      <td>(47.619575, -122.324257)</td>\n",
       "      <td>F110104165</td>\n",
       "    </tr>\n",
       "    <tr>\n",
       "      <th>4</th>\n",
       "      <td>611 12th Av S</td>\n",
       "      <td>Aid Response</td>\n",
       "      <td>11/09/2011 11:29:00 PM +0000</td>\n",
       "      <td>47.597406</td>\n",
       "      <td>-122.317228</td>\n",
       "      <td>(47.597406, -122.317228)</td>\n",
       "      <td>F110104162</td>\n",
       "    </tr>\n",
       "    <tr>\n",
       "      <th>5</th>\n",
       "      <td>4545 42nd Av Sw</td>\n",
       "      <td>Automatic Medical Alarm</td>\n",
       "      <td>11/09/2011 11:25:00 PM +0000</td>\n",
       "      <td>47.562472</td>\n",
       "      <td>-122.385455</td>\n",
       "      <td>(47.562472, -122.385455)</td>\n",
       "      <td>F110104161</td>\n",
       "    </tr>\n",
       "  </tbody>\n",
       "</table>\n",
       "</div>"
      ],
      "text/plain": [
       "                   Address                     Type  \\\n",
       "1           6900 37th Av S           Medic Response   \n",
       "2  N 50th St / Stone Way N             Aid Response   \n",
       "3  E John St / E Olive Way             Aid Response   \n",
       "4            611 12th Av S             Aid Response   \n",
       "5          4545 42nd Av Sw  Automatic Medical Alarm   \n",
       "\n",
       "                       Datetime   Latitude   Longitude  \\\n",
       "1  11/09/2011 11:33:00 PM +0000  47.540683 -122.286131   \n",
       "2  11/09/2011 11:32:00 PM +0000  47.665034 -122.340207   \n",
       "3  11/09/2011 11:32:00 PM +0000  47.619575 -122.324257   \n",
       "4  11/09/2011 11:29:00 PM +0000  47.597406 -122.317228   \n",
       "5  11/09/2011 11:25:00 PM +0000  47.562472 -122.385455   \n",
       "\n",
       "            Report Location Incident Number  \n",
       "1  (47.540683, -122.286131)      F110104166  \n",
       "2  (47.665034, -122.340207)      F110104164  \n",
       "3  (47.619575, -122.324257)      F110104165  \n",
       "4  (47.597406, -122.317228)      F110104162  \n",
       "5  (47.562472, -122.385455)      F110104161  "
      ]
     },
     "execution_count": 35,
     "metadata": {},
     "output_type": "execute_result"
    }
   ],
   "source": [
    "df = df.drop(df.index[0])\n",
    "df.head()"
   ]
  },
  {
   "cell_type": "code",
   "execution_count": 28,
   "metadata": {
    "collapsed": false
   },
   "outputs": [
    {
     "data": {
      "text/plain": [
       "array(['', '11/09/2011 11:33:00 PM ', '11/09/2011 11:32:00 PM ', ...,\n",
       "       '09/13/2016 08:00:00 PM ', '09/13/2016 08:06:00 PM ',\n",
       "       '09/13/2016 08:15:00 PM '], \n",
       "      dtype='|S32')"
      ]
     },
     "execution_count": 28,
     "metadata": {},
     "output_type": "execute_result"
    }
   ],
   "source": [
    "\n",
    "\n",
    "\n",
    "# dates = np.array([])\n",
    "# for date in df.Datetime:\n",
    "#     date = date[:-5]\n",
    "#     dates = np.append(dates, date)\n",
    "# dates"
   ]
  },
  {
   "cell_type": "code",
   "execution_count": 36,
   "metadata": {
    "collapsed": false
   },
   "outputs": [
    {
     "ename": "ValueError",
     "evalue": "hour must be in 0..23",
     "output_type": "error",
     "traceback": [
      "\u001b[0;31m---------------------------------------------------------------------------\u001b[0m",
      "\u001b[0;31mValueError\u001b[0m                                Traceback (most recent call last)",
      "\u001b[0;32m<ipython-input-36-8a292dcff4cd>\u001b[0m in \u001b[0;36m<module>\u001b[0;34m()\u001b[0m\n\u001b[0;32m----> 1\u001b[0;31m \u001b[0mdf\u001b[0m\u001b[0;34m[\u001b[0m\u001b[0;34m'Datetime'\u001b[0m\u001b[0;34m]\u001b[0m \u001b[0;34m=\u001b[0m \u001b[0mpd\u001b[0m\u001b[0;34m.\u001b[0m\u001b[0mto_datetime\u001b[0m\u001b[0;34m(\u001b[0m\u001b[0mdf\u001b[0m\u001b[0;34m[\u001b[0m\u001b[0;34m'Datetime'\u001b[0m\u001b[0;34m]\u001b[0m\u001b[0;34m)\u001b[0m\u001b[0;34m\u001b[0m\u001b[0m\n\u001b[0m",
      "\u001b[0;32m/home/nick/anaconda2/lib/python2.7/site-packages/pandas/util/decorators.pyc\u001b[0m in \u001b[0;36mwrapper\u001b[0;34m(*args, **kwargs)\u001b[0m\n\u001b[1;32m     89\u001b[0m                 \u001b[0;32melse\u001b[0m\u001b[0;34m:\u001b[0m\u001b[0;34m\u001b[0m\u001b[0m\n\u001b[1;32m     90\u001b[0m                     \u001b[0mkwargs\u001b[0m\u001b[0;34m[\u001b[0m\u001b[0mnew_arg_name\u001b[0m\u001b[0;34m]\u001b[0m \u001b[0;34m=\u001b[0m \u001b[0mnew_arg_value\u001b[0m\u001b[0;34m\u001b[0m\u001b[0m\n\u001b[0;32m---> 91\u001b[0;31m             \u001b[0;32mreturn\u001b[0m \u001b[0mfunc\u001b[0m\u001b[0;34m(\u001b[0m\u001b[0;34m*\u001b[0m\u001b[0margs\u001b[0m\u001b[0;34m,\u001b[0m \u001b[0;34m**\u001b[0m\u001b[0mkwargs\u001b[0m\u001b[0;34m)\u001b[0m\u001b[0;34m\u001b[0m\u001b[0m\n\u001b[0m\u001b[1;32m     92\u001b[0m         \u001b[0;32mreturn\u001b[0m \u001b[0mwrapper\u001b[0m\u001b[0;34m\u001b[0m\u001b[0m\n\u001b[1;32m     93\u001b[0m     \u001b[0;32mreturn\u001b[0m \u001b[0m_deprecate_kwarg\u001b[0m\u001b[0;34m\u001b[0m\u001b[0m\n",
      "\u001b[0;32m/home/nick/anaconda2/lib/python2.7/site-packages/pandas/tseries/tools.pyc\u001b[0m in \u001b[0;36mto_datetime\u001b[0;34m(arg, errors, dayfirst, yearfirst, utc, box, format, exact, coerce, unit, infer_datetime_format)\u001b[0m\n\u001b[1;32m    289\u001b[0m                         \u001b[0myearfirst\u001b[0m\u001b[0;34m=\u001b[0m\u001b[0myearfirst\u001b[0m\u001b[0;34m,\u001b[0m\u001b[0;34m\u001b[0m\u001b[0m\n\u001b[1;32m    290\u001b[0m                         \u001b[0mutc\u001b[0m\u001b[0;34m=\u001b[0m\u001b[0mutc\u001b[0m\u001b[0;34m,\u001b[0m \u001b[0mbox\u001b[0m\u001b[0;34m=\u001b[0m\u001b[0mbox\u001b[0m\u001b[0;34m,\u001b[0m \u001b[0mformat\u001b[0m\u001b[0;34m=\u001b[0m\u001b[0mformat\u001b[0m\u001b[0;34m,\u001b[0m \u001b[0mexact\u001b[0m\u001b[0;34m=\u001b[0m\u001b[0mexact\u001b[0m\u001b[0;34m,\u001b[0m\u001b[0;34m\u001b[0m\u001b[0m\n\u001b[0;32m--> 291\u001b[0;31m                         unit=unit, infer_datetime_format=infer_datetime_format)\n\u001b[0m\u001b[1;32m    292\u001b[0m \u001b[0;34m\u001b[0m\u001b[0m\n\u001b[1;32m    293\u001b[0m \u001b[0;34m\u001b[0m\u001b[0m\n",
      "\u001b[0;32m/home/nick/anaconda2/lib/python2.7/site-packages/pandas/tseries/tools.pyc\u001b[0m in \u001b[0;36m_to_datetime\u001b[0;34m(arg, errors, dayfirst, yearfirst, utc, box, format, exact, unit, freq, infer_datetime_format)\u001b[0m\n\u001b[1;32m    418\u001b[0m     \u001b[0;32melif\u001b[0m \u001b[0misinstance\u001b[0m\u001b[0;34m(\u001b[0m\u001b[0marg\u001b[0m\u001b[0;34m,\u001b[0m \u001b[0mABCSeries\u001b[0m\u001b[0;34m)\u001b[0m\u001b[0;34m:\u001b[0m\u001b[0;34m\u001b[0m\u001b[0m\n\u001b[1;32m    419\u001b[0m         \u001b[0;32mfrom\u001b[0m \u001b[0mpandas\u001b[0m \u001b[0;32mimport\u001b[0m \u001b[0mSeries\u001b[0m\u001b[0;34m\u001b[0m\u001b[0m\n\u001b[0;32m--> 420\u001b[0;31m         \u001b[0mvalues\u001b[0m \u001b[0;34m=\u001b[0m \u001b[0m_convert_listlike\u001b[0m\u001b[0;34m(\u001b[0m\u001b[0marg\u001b[0m\u001b[0;34m.\u001b[0m\u001b[0m_values\u001b[0m\u001b[0;34m,\u001b[0m \u001b[0mFalse\u001b[0m\u001b[0;34m,\u001b[0m \u001b[0mformat\u001b[0m\u001b[0;34m)\u001b[0m\u001b[0;34m\u001b[0m\u001b[0m\n\u001b[0m\u001b[1;32m    421\u001b[0m         \u001b[0;32mreturn\u001b[0m \u001b[0mSeries\u001b[0m\u001b[0;34m(\u001b[0m\u001b[0mvalues\u001b[0m\u001b[0;34m,\u001b[0m \u001b[0mindex\u001b[0m\u001b[0;34m=\u001b[0m\u001b[0marg\u001b[0m\u001b[0;34m.\u001b[0m\u001b[0mindex\u001b[0m\u001b[0;34m,\u001b[0m \u001b[0mname\u001b[0m\u001b[0;34m=\u001b[0m\u001b[0marg\u001b[0m\u001b[0;34m.\u001b[0m\u001b[0mname\u001b[0m\u001b[0;34m)\u001b[0m\u001b[0;34m\u001b[0m\u001b[0m\n\u001b[1;32m    422\u001b[0m     \u001b[0;32melif\u001b[0m \u001b[0misinstance\u001b[0m\u001b[0;34m(\u001b[0m\u001b[0marg\u001b[0m\u001b[0;34m,\u001b[0m \u001b[0;34m(\u001b[0m\u001b[0mABCDataFrame\u001b[0m\u001b[0;34m,\u001b[0m \u001b[0mMutableMapping\u001b[0m\u001b[0;34m)\u001b[0m\u001b[0;34m)\u001b[0m\u001b[0;34m:\u001b[0m\u001b[0;34m\u001b[0m\u001b[0m\n",
      "\u001b[0;32m/home/nick/anaconda2/lib/python2.7/site-packages/pandas/tseries/tools.pyc\u001b[0m in \u001b[0;36m_convert_listlike\u001b[0;34m(arg, box, format, name)\u001b[0m\n\u001b[1;32m    410\u001b[0m                 \u001b[0;32mreturn\u001b[0m \u001b[0mDatetimeIndex\u001b[0m\u001b[0;34m.\u001b[0m\u001b[0m_simple_new\u001b[0m\u001b[0;34m(\u001b[0m\u001b[0mvalues\u001b[0m\u001b[0;34m,\u001b[0m \u001b[0mname\u001b[0m\u001b[0;34m=\u001b[0m\u001b[0mname\u001b[0m\u001b[0;34m,\u001b[0m \u001b[0mtz\u001b[0m\u001b[0;34m=\u001b[0m\u001b[0mtz\u001b[0m\u001b[0;34m)\u001b[0m\u001b[0;34m\u001b[0m\u001b[0m\n\u001b[1;32m    411\u001b[0m             \u001b[0;32mexcept\u001b[0m \u001b[0;34m(\u001b[0m\u001b[0mValueError\u001b[0m\u001b[0;34m,\u001b[0m \u001b[0mTypeError\u001b[0m\u001b[0;34m)\u001b[0m\u001b[0;34m:\u001b[0m\u001b[0;34m\u001b[0m\u001b[0m\n\u001b[0;32m--> 412\u001b[0;31m                 \u001b[0;32mraise\u001b[0m \u001b[0me\u001b[0m\u001b[0;34m\u001b[0m\u001b[0m\n\u001b[0m\u001b[1;32m    413\u001b[0m \u001b[0;34m\u001b[0m\u001b[0m\n\u001b[1;32m    414\u001b[0m     \u001b[0;32mif\u001b[0m \u001b[0marg\u001b[0m \u001b[0;32mis\u001b[0m \u001b[0mNone\u001b[0m\u001b[0;34m:\u001b[0m\u001b[0;34m\u001b[0m\u001b[0m\n",
      "\u001b[0;31mValueError\u001b[0m: hour must be in 0..23"
     ]
    }
   ],
   "source": [
    "df['Datetime'] = pd.to_datetime(df['Datetime'])"
   ]
  },
  {
   "cell_type": "code",
   "execution_count": 30,
   "metadata": {
    "collapsed": false
   },
   "outputs": [
    {
     "data": {
      "text/html": [
       "<div>\n",
       "<table border=\"1\" class=\"dataframe\">\n",
       "  <thead>\n",
       "    <tr style=\"text-align: right;\">\n",
       "      <th></th>\n",
       "      <th>Address</th>\n",
       "      <th>Type</th>\n",
       "      <th>Datetime</th>\n",
       "      <th>Latitude</th>\n",
       "      <th>Longitude</th>\n",
       "      <th>Report Location</th>\n",
       "      <th>Incident Number</th>\n",
       "    </tr>\n",
       "  </thead>\n",
       "  <tbody>\n",
       "    <tr>\n",
       "      <th>1</th>\n",
       "      <td>6900 37th Av S</td>\n",
       "      <td>Medic Response</td>\n",
       "      <td>11/09/2011 11:33:00 PM +0000</td>\n",
       "      <td>47.540683</td>\n",
       "      <td>-122.286131</td>\n",
       "      <td>(47.540683, -122.286131)</td>\n",
       "      <td>F110104166</td>\n",
       "    </tr>\n",
       "    <tr>\n",
       "      <th>2</th>\n",
       "      <td>N 50th St / Stone Way N</td>\n",
       "      <td>Aid Response</td>\n",
       "      <td>11/09/2011 11:32:00 PM +0000</td>\n",
       "      <td>47.665034</td>\n",
       "      <td>-122.340207</td>\n",
       "      <td>(47.665034, -122.340207)</td>\n",
       "      <td>F110104164</td>\n",
       "    </tr>\n",
       "    <tr>\n",
       "      <th>3</th>\n",
       "      <td>E John St / E Olive Way</td>\n",
       "      <td>Aid Response</td>\n",
       "      <td>11/09/2011 11:32:00 PM +0000</td>\n",
       "      <td>47.619575</td>\n",
       "      <td>-122.324257</td>\n",
       "      <td>(47.619575, -122.324257)</td>\n",
       "      <td>F110104165</td>\n",
       "    </tr>\n",
       "    <tr>\n",
       "      <th>4</th>\n",
       "      <td>611 12th Av S</td>\n",
       "      <td>Aid Response</td>\n",
       "      <td>11/09/2011 11:29:00 PM +0000</td>\n",
       "      <td>47.597406</td>\n",
       "      <td>-122.317228</td>\n",
       "      <td>(47.597406, -122.317228)</td>\n",
       "      <td>F110104162</td>\n",
       "    </tr>\n",
       "    <tr>\n",
       "      <th>5</th>\n",
       "      <td>4545 42nd Av Sw</td>\n",
       "      <td>Automatic Medical Alarm</td>\n",
       "      <td>11/09/2011 11:25:00 PM +0000</td>\n",
       "      <td>47.562472</td>\n",
       "      <td>-122.385455</td>\n",
       "      <td>(47.562472, -122.385455)</td>\n",
       "      <td>F110104161</td>\n",
       "    </tr>\n",
       "  </tbody>\n",
       "</table>\n",
       "</div>"
      ],
      "text/plain": [
       "                   Address                     Type  \\\n",
       "1           6900 37th Av S           Medic Response   \n",
       "2  N 50th St / Stone Way N             Aid Response   \n",
       "3  E John St / E Olive Way             Aid Response   \n",
       "4            611 12th Av S             Aid Response   \n",
       "5          4545 42nd Av Sw  Automatic Medical Alarm   \n",
       "\n",
       "                       Datetime   Latitude   Longitude  \\\n",
       "1  11/09/2011 11:33:00 PM +0000  47.540683 -122.286131   \n",
       "2  11/09/2011 11:32:00 PM +0000  47.665034 -122.340207   \n",
       "3  11/09/2011 11:32:00 PM +0000  47.619575 -122.324257   \n",
       "4  11/09/2011 11:29:00 PM +0000  47.597406 -122.317228   \n",
       "5  11/09/2011 11:25:00 PM +0000  47.562472 -122.385455   \n",
       "\n",
       "            Report Location Incident Number  \n",
       "1  (47.540683, -122.286131)      F110104166  \n",
       "2  (47.665034, -122.340207)      F110104164  \n",
       "3  (47.619575, -122.324257)      F110104165  \n",
       "4  (47.597406, -122.317228)      F110104162  \n",
       "5  (47.562472, -122.385455)      F110104161  "
      ]
     },
     "execution_count": 30,
     "metadata": {},
     "output_type": "execute_result"
    }
   ],
   "source": []
  },
  {
   "cell_type": "code",
   "execution_count": null,
   "metadata": {
    "collapsed": true
   },
   "outputs": [],
   "source": []
  }
 ],
 "metadata": {
  "kernelspec": {
   "display_name": "Python [Root]",
   "language": "python",
   "name": "Python [Root]"
  },
  "language_info": {
   "codemirror_mode": {
    "name": "ipython",
    "version": 2
   },
   "file_extension": ".py",
   "mimetype": "text/x-python",
   "name": "python",
   "nbconvert_exporter": "python",
   "pygments_lexer": "ipython2",
   "version": "2.7.12"
  }
 },
 "nbformat": 4,
 "nbformat_minor": 0
}
